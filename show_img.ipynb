{
 "cells": [
  {
   "cell_type": "code",
   "execution_count": 2,
   "metadata": {},
   "outputs": [],
   "source": [
    "import matplotlib.pylab as plt\n",
    "import os\n",
    "import cv2"
   ]
  },
  {
   "cell_type": "code",
   "execution_count": 56,
   "metadata": {},
   "outputs": [],
   "source": [
    "workspace = './classlabel/1'\n",
    "out_workspace = './data/1'"
   ]
  },
  {
   "cell_type": "code",
   "execution_count": 40,
   "metadata": {},
   "outputs": [],
   "source": [
    "def show(path):\n",
    "    fig = plt.figure(figsize=(20,20))\n",
    "    column = 5\n",
    "    rows = 4\n",
    "    for i,id in enumerate(os.listdir(path),1):\n",
    "        if id[0]=='.':\n",
    "            continue\n",
    "        show_path = os.path.join(path,id)\n",
    "        mat = cv2.imread(show_path,0)\n",
    "        fig.add_subplot(rows,column,i)\n",
    "#         plt.imshow(mat)\n",
    "        plt.imshow(mat,cmap=plt.get_cmap('gray'))\n",
    "    plt.show()"
   ]
  },
  {
   "cell_type": "code",
   "execution_count": 58,
   "metadata": {},
   "outputs": [],
   "source": [
    "def item(workspace):\n",
    "    for i,id in enumerate(os.listdir(workspace),0):\n",
    "        if id[0] == '.':\n",
    "            continue\n",
    "        path = os.path.join(os.path.join(workspace,id) ,'cpr')\n",
    "#         print(i,id)\n",
    "#         show(path)\n",
    "item(workspace)"
   ]
  },
  {
   "cell_type": "code",
   "execution_count": null,
   "metadata": {},
   "outputs": [],
   "source": [
    "def remove(out_workspace = out_workspace,id):\n",
    "    path = os.path.join(out_workspace,id)\n",
    "    os.remove(path)\n",
    "remove(id)    "
   ]
  },
  {
   "cell_type": "code",
   "execution_count": 61,
   "metadata": {},
   "outputs": [
    {
     "data": {
      "text/plain": [
       "1"
      ]
     },
     "execution_count": 61,
     "metadata": {},
     "output_type": "execute_result"
    }
   ],
   "source": [
    "a = True\n",
    "int(a)"
   ]
  },
  {
   "cell_type": "code",
   "execution_count": null,
   "metadata": {},
   "outputs": [],
   "source": []
  }
 ],
 "metadata": {
  "kernelspec": {
   "display_name": "Python 2",
   "language": "python",
   "name": "python2"
  },
  "language_info": {
   "codemirror_mode": {
    "name": "ipython",
    "version": 2
   },
   "file_extension": ".py",
   "mimetype": "text/x-python",
   "name": "python",
   "nbconvert_exporter": "python",
   "pygments_lexer": "ipython2",
   "version": "2.7.14"
  }
 },
 "nbformat": 4,
 "nbformat_minor": 2
}
